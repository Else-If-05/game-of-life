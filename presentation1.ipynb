{
 "cells": [
  {
   "cell_type": "code",
   "execution_count": 5,
   "id": "initial_id",
   "metadata": {
    "ExecuteTime": {
     "end_time": "2024-12-09T21:17:51.646498Z",
     "start_time": "2024-12-09T21:17:51.627583Z"
    },
    "collapsed": true
   },
   "outputs": [
    {
     "ename": "SyntaxError",
     "evalue": "invalid syntax (3930813512.py, line 3)",
     "output_type": "error",
     "traceback": [
      "\u001B[1;36m  File \u001B[1;32m\"C:\\Users\\932252817\\AppData\\Local\\Temp\\ipykernel_33608\\3930813512.py\"\u001B[1;36m, line \u001B[1;32m3\u001B[0m\n\u001B[1;33m    **Durée : 15 minutes**\u001B[0m\n\u001B[1;37m    ^\u001B[0m\n\u001B[1;31mSyntaxError\u001B[0m\u001B[1;31m:\u001B[0m invalid syntax\n"
     ]
    }
   ],
   "source": [
    "# Présentation du Jeu de la Vie\n",
    "## **Projet Python : Simulation et Analyse du Jeu de la Vie**\n",
    "\n",
    "### Objectifs :\n",
    "- Presenter les concepts cles du Jeu de la Vie.\n",
    "- Demontrer les fonctionnalites du projet avec des exemples pratiques.\n",
    "- Mettre en avant les analyses et les resultats obtenus.\n"
   ]
  },
  {
   "cell_type": "code",
   "execution_count": null,
   "id": "b753285dca3f57d4",
   "metadata": {},
   "outputs": [],
   "source": [
    "## **1. Description Générale**\n",
    "\n",
    "Le Jeu de la Vie, cree par John Conway en 1970, est un automate cellulaire simulant des dynamiques complexes à partir de regles simples.\n",
    "\n",
    "### **Règles du Jeu :**\n",
    "1. Une cellule **vivante** survit si elle a 2 ou 3 voisins vivants.\n",
    "2. Une cellule **vivante** meurt si elle a trop ou trop peu de voisins.\n",
    "3. Une cellule **morte** devient vivante si elle a exactement 3 voisins vivants.\n",
    "\n",
    "### Types de structures observées :\n",
    "- **Structures fixes** : restent immobiles.\n",
    "- **Oscillateurs** : evoluent de façon cyclique.\n",
    "- **Vaisseaux** : se deplacent sur la grille.\n",
    "- **Generateurs** : produisent d autres structures.\n"
   ]
  },
  {
   "cell_type": "code",
   "execution_count": null,
   "id": "6f985a4ec45372a9",
   "metadata": {},
   "outputs": [],
   "source": [
    "## **2. Partie Moteur de Jeu**\n",
    "\n",
    "### Objectifs :\n",
    "- Concevoir un moteur permettant de simuler le jeu en respectant les regles.\n",
    "- Gerer une grille de cellules pouvant evoluer au fil du temps.\n"
   ]
  },
  {
   "cell_type": "code",
   "execution_count": 13,
   "id": "472e0ca2ad1a19c9",
   "metadata": {},
   "outputs": [],
   "source": [
    "import numpy as np\n",
    "\n",
    "# Définition de la grille\n",
    "def initialiser_grille(taille, aleatoire=True):\n",
    "    if aleatoire:\n",
    "        return np.random.randint(2, size=(taille, taille))\n",
    "    return np.zeros((taille, taille), dtype=int)\n",
    "\n",
    "# Fonction d'évolution de la grille\n",
    "def appliquer_regles(grille):\n",
    "    taille = grille.shape[0]\n",
    "    nouvelle_grille = np.zeros_like(grille)\n",
    "    for x in range(taille):\n",
    "        for y in range(taille):\n",
    "            # Calcul des voisins vivants\n",
    "            voisins_vivants = np.sum(grille[max(0, x-1):x+2, max(0, y-1):y+2]) - grille[x, y]\n",
    "            # Application des règles\n",
    "            if grille[x, y] == 1 and 2 <= voisins_vivants <= 3:\n",
    "                nouvelle_grille[x, y] = 1\n",
    "            elif grille[x, y] == 0 and voisins_vivants == 3:\n",
    "                nouvelle_grille[x, y] = 1\n",
    "    return nouvelle_grille\n",
    "\n",
    "# Initialisation et premier pas\n",
    "grille = initialiser_grille(10)\n",
    "print(\"Grille initiale:\")\n",
    "print(grille)\n",
    "\n",
    "nouvelle_grille = appliquer_regles(grille)\n",
    "print(\"Grille après 1 itération:\")\n",
    "print(nouvelle_grille)\n"
   ]
  },
  {
   "cell_type": "code",
   "execution_count": 14,
   "id": "ed76b2e8d5c6f013",
   "metadata": {},
   "outputs": [
    {
     "ename": "SyntaxError",
     "evalue": "invalid syntax (248306357.py, line 4)",
     "output_type": "error",
     "traceback": [
      "\u001B[1;36m  File \u001B[1;32m\"C:\\Users\\932252817\\AppData\\Local\\Temp\\ipykernel_33608\\248306357.py\"\u001B[1;36m, line \u001B[1;32m4\u001B[0m\n\u001B[1;33m    - Afficher la grille en temps reel.\u001B[0m\n\u001B[1;37m               ^\u001B[0m\n\u001B[1;31mSyntaxError\u001B[0m\u001B[1;31m:\u001B[0m invalid syntax\n"
     ]
    }
   ],
   "source": [
    "## **3. Partie Interface**\n",
    "\n",
    "### Objectifs :\n",
    "- Afficher la grille en temps reel.\n",
    "- Permettre à l utilisateur de modifier les cellules avec la souris.\n"
   ]
  },
  {
   "cell_type": "code",
   "execution_count": 2,
   "id": "2cee9219d899ce5d",
   "metadata": {
    "ExecuteTime": {
     "end_time": "2024-12-09T21:17:51.681284200Z",
     "start_time": "2024-12-09T21:17:26.445290Z"
    }
   },
   "outputs": [
    {
     "name": "stdout",
     "output_type": "stream",
     "text": [
      "pygame 2.6.1 (SDL 2.28.4, Python 3.9.13)\n",
      "Hello from the pygame community. https://www.pygame.org/contribute.html\n"
     ]
    },
    {
     "ename": "NameError",
     "evalue": "name 'initialiser_grille' is not defined",
     "output_type": "error",
     "traceback": [
      "\u001B[1;31m---------------------------------------------------------------------------\u001B[0m",
      "\u001B[1;31mNameError\u001B[0m                                 Traceback (most recent call last)",
      "\u001B[1;32m~\\AppData\\Local\\Temp\\ipykernel_33608\\1128119148.py\u001B[0m in \u001B[0;36m<module>\u001B[1;34m\u001B[0m\n\u001B[0;32m     29\u001B[0m \u001B[1;33m\u001B[0m\u001B[0m\n\u001B[0;32m     30\u001B[0m \u001B[1;31m# Affichage d'une grille initiale\u001B[0m\u001B[1;33m\u001B[0m\u001B[1;33m\u001B[0m\u001B[0m\n\u001B[1;32m---> 31\u001B[1;33m \u001B[0mgrille\u001B[0m \u001B[1;33m=\u001B[0m \u001B[0minitialiser_grille\u001B[0m\u001B[1;33m(\u001B[0m\u001B[1;36m50\u001B[0m\u001B[1;33m)\u001B[0m\u001B[1;33m\u001B[0m\u001B[1;33m\u001B[0m\u001B[0m\n\u001B[0m\u001B[0;32m     32\u001B[0m \u001B[0mafficher_interface\u001B[0m\u001B[1;33m(\u001B[0m\u001B[0mgrille\u001B[0m\u001B[1;33m)\u001B[0m\u001B[1;33m\u001B[0m\u001B[1;33m\u001B[0m\u001B[0m\n\u001B[0;32m     33\u001B[0m \u001B[1;33m\u001B[0m\u001B[0m\n",
      "\u001B[1;31mNameError\u001B[0m: name 'initialiser_grille' is not defined"
     ]
    }
   ],
   "source": [
    "import pygame\n",
    "\n",
    "# Initialiser Pygame\n",
    "def afficher_interface(grille):\n",
    "    pygame.init()\n",
    "    taille_cellule = 10\n",
    "    taille_grille = len(grille) * taille_cellule\n",
    "    screen = pygame.display.set_mode((taille_grille, taille_grille))\n",
    "    pygame.display.set_caption(\"Jeu de la Vie\")\n",
    "    clock = pygame.time.Clock()\n",
    "    running = True\n",
    "\n",
    "    while running:\n",
    "        for event in pygame.event.get():\n",
    "            if event.type == pygame.QUIT:\n",
    "                running = False\n",
    "\n",
    "        # Dessiner la grille\n",
    "        screen.fill((0, 0, 0))\n",
    "        for x in range(len(grille)):\n",
    "            for y in range(len(grille)):\n",
    "                couleur = (200, 200, 200) if grille[x, y] == 1 else (50, 50, 50)\n",
    "                pygame.draw.rect(screen, couleur,\n",
    "                                 (x*taille_cellule, y*taille_cellule, taille_cellule, taille_cellule))\n",
    "        pygame.display.flip()\n",
    "        clock.tick(10)\n",
    "\n",
    "    pygame.quit()\n",
    "\n",
    "# Affichage d'une grille initiale\n",
    "grille = initialiser_grille(50)\n",
    "afficher_interface(grille)\n"
   ]
  },
  {
   "cell_type": "code",
   "execution_count": null,
   "id": "fc0defcff94e6c3f",
   "metadata": {},
   "outputs": [],
   "source": [
    "## **4. Sauvegarde et Chargement**\n",
    "\n",
    "### Objectifs :\n",
    "- Enregistrer et recharger des etats de grille.\n"
   ]
  },
  {
   "cell_type": "code",
   "execution_count": null,
   "id": "42733ca781c4759e",
   "metadata": {},
   "outputs": [],
   "source": [
    "import json\n",
    "\n",
    "# Sauvegarder une grille\n",
    "def sauvegarder_grille(grille, chemin):\n",
    "    with open(chemin, 'w') as fichier:\n",
    "        json.dump(grille.tolist(), fichier)\n",
    "\n",
    "# Charger une grille\n",
    "def charger_grille(chemin):\n",
    "    with open(chemin, 'r') as fichier:\n",
    "        return np.array(json.load(fichier))\n",
    "\n",
    "# Exemple\n",
    "grille = initialiser_grille(10)\n",
    "sauvegarder_grille(grille, \"grille.json\")\n",
    "nouvelle_grille = charger_grille(\"grille.json\")\n",
    "print(\"Grille chargée:\")\n",
    "print(nouvelle_grille)\n"
   ]
  },
  {
   "cell_type": "code",
   "execution_count": null,
   "id": "74fcc027a0265a62",
   "metadata": {},
   "outputs": [],
   "source": [
    "## **5. Optimisation et Analyse**\n",
    "\n",
    "### Objectifs :\n",
    "- Etudier les performances sur des grilles de grandes tailles.\n",
    "- Analyser l évolution des cellules.\n"
   ]
  },
  {
   "cell_type": "code",
   "execution_count": null,
   "id": "becc6e4310ac86d9",
   "metadata": {},
   "outputs": [],
   "source": [
    "import matplotlib.pyplot as plt\n",
    "import time\n",
    "\n",
    "# Temps de calcul pour une grille de taille croissante\n",
    "tailles = range(50, 501, 50)\n",
    "temps = []\n",
    "\n",
    "for taille in tailles:\n",
    "    grille = initialiser_grille(taille)\n",
    "    debut = time.time()\n",
    "    appliquer_regles(grille)\n",
    "    temps.append(time.time() - debut)\n",
    "\n",
    "plt.plot(tailles, temps, marker='o')\n",
    "plt.xlabel(\"Taille de la grille\")\n",
    "plt.ylabel(\"Temps de calcul (s)\")\n",
    "plt.title(\"Performance du moteur\")\n",
    "plt.show()\n"
   ]
  },
  {
   "cell_type": "code",
   "execution_count": null,
   "id": "5359ef1c85a6a375",
   "metadata": {},
   "outputs": [],
   "source": [
    "## **6. Conclusion**\n",
    "\n",
    "### Points clés du projet :\n",
    "- Implementation reussie des fonctionnalites principales.\n",
    "- Interface graphique fonctionnelle avec Pygame.\n",
    "- Outils d analyse et d optimisation pour etudier le comportement des cellules.\n",
    "\n",
    "### Extensions possibles :\n",
    "- Reconnaissance automatique des structures complexes (oscillateurs, vaisseaux).\n",
    "- Support pour des grilles infinies.\n",
    "\n",
    "Merci pour votre attention !\n"
   ]
  }
 ],
 "metadata": {
  "kernelspec": {
   "display_name": "Python 3 (ipykernel)",
   "language": "python",
   "name": "python3"
  },
  "language_info": {
   "codemirror_mode": {
    "name": "ipython",
    "version": 3
   },
   "file_extension": ".py",
   "mimetype": "text/x-python",
   "name": "python",
   "nbconvert_exporter": "python",
   "pygments_lexer": "ipython3",
   "version": "3.9.13"
  }
 },
 "nbformat": 4,
 "nbformat_minor": 5
}
