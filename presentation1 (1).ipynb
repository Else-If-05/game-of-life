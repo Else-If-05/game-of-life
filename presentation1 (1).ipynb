{
 "cells": [
  {
   "cell_type": "code",
   "execution_count": null,
   "id": "fd603632-b22a-4f25-a4c8-c87412885d07",
   "metadata": {
    "ExecuteTime": {
     "end_time": "2024-12-09T21:17:51.646498Z",
     "start_time": "2024-12-09T21:17:51.627583Z"
    }
   },
   "outputs": [],
   "source": [
    "# Présentation du Jeu de la Vie\n",
    "## **Projet Python : Simulation et Analyse du Jeu de la Vie**\n",
    "\n",
    "### Objectifs :\n",
    "- Presenter les concepts cles du Jeu de la Vie.\n",
    "- Demontrer les fonctionnalites du projet avec des exemples pratiques.\n",
    "- Mettre en avant les analyses et les resultats obtenus.\n"
   ]
  },
  {
   "cell_type": "code",
   "execution_count": null,
   "id": "b753285dca3f57d4",
   "metadata": {},
   "outputs": [],
   "source": [
    "## **1. Description Générale**\n",
    "\n",
    "Le Jeu de la Vie, cree par John Conway en 1970, est un automate cellulaire simulant des dynamiques complexes à partir de regles simples.\n",
    "\n",
    "### **Règles du Jeu :**\n",
    "1. Une cellule **vivante** survit si elle a 2 ou 3 voisins vivants.\n",
    "2. Une cellule **vivante** meurt si elle a trop ou trop peu de voisins.\n",
    "3. Une cellule **morte** devient vivante si elle a exactement 3 voisins vivants.\n",
    "\n",
    "### Types de structures observées :\n",
    "- **Structures fixes** : restent immobiles.\n",
    "- **Oscillateurs** : evoluent de façon cyclique.\n",
    "- **Vaisseaux** : se deplacent sur la grille.\n",
    "- **Generateurs** : produisent d autres structures.\n"
   ]
  },
  {
   "cell_type": "code",
   "execution_count": null,
   "id": "6f985a4ec45372a9",
   "metadata": {},
   "outputs": [],
   "source": [
    "## **2. Partie Moteur de Jeu**\n",
    "\n",
    "### Objectifs :\n",
    "- Concevoir un moteur permettant de simuler le jeu en respectant les regles.\n",
    "- Gerer une grille de cellules pouvant evoluer au fil du temps.\n"
   ]
  },
  {
   "cell_type": "code",
   "execution_count": 1,
   "id": "472e0ca2ad1a19c9",
   "metadata": {},
   "outputs": [
    {
     "name": "stdout",
     "output_type": "stream",
     "text": [
      "Grille initiale:\n",
      "[[0 0 0 1 0 0 1 1 0 1]\n",
      " [1 1 1 1 0 0 1 0 0 0]\n",
      " [1 1 1 1 1 1 1 1 0 1]\n",
      " [1 0 0 1 0 1 1 0 0 0]\n",
      " [1 0 1 0 0 1 1 1 0 1]\n",
      " [1 0 0 0 0 1 1 0 1 0]\n",
      " [0 1 1 1 0 1 0 0 1 1]\n",
      " [0 1 1 0 1 0 1 1 0 0]\n",
      " [1 0 0 1 0 1 0 0 0 1]\n",
      " [1 1 1 1 1 0 0 1 1 0]]\n",
      "Grille après 1 itération:\n",
      "[[0 1 0 1 0 0 1 1 0 0]\n",
      " [1 0 0 0 0 0 0 0 0 0]\n",
      " [0 0 0 0 0 0 0 1 0 0]\n",
      " [1 0 0 0 0 0 0 0 0 0]\n",
      " [1 0 0 0 0 0 0 0 1 0]\n",
      " [1 0 0 1 0 0 0 0 0 0]\n",
      " [1 0 0 1 0 0 0 0 1 1]\n",
      " [1 0 0 0 0 0 1 1 0 1]\n",
      " [1 0 0 0 0 1 0 0 0 0]\n",
      " [1 1 1 1 1 0 0 0 1 0]]\n"
     ]
    }
   ],
   "source": [
    "import numpy as np\n",
    "\n",
    "# Définition de la grille\n",
    "def initialiser_grille(taille, aleatoire=True):\n",
    "    if aleatoire:\n",
    "        return np.random.randint(2, size=(taille, taille))\n",
    "    return np.zeros((taille, taille), dtype=int)\n",
    "\n",
    "# Fonction d'évolution de la grille\n",
    "def appliquer_regles(grille):\n",
    "    taille = grille.shape[0]\n",
    "    nouvelle_grille = np.zeros_like(grille)\n",
    "    for x in range(taille):\n",
    "        for y in range(taille):\n",
    "            # Calcul des voisins vivants\n",
    "            voisins_vivants = np.sum(grille[max(0, x-1):x+2, max(0, y-1):y+2]) - grille[x, y]\n",
    "            # Application des règles\n",
    "            if grille[x, y] == 1 and 2 <= voisins_vivants <= 3:\n",
    "                nouvelle_grille[x, y] = 1\n",
    "            elif grille[x, y] == 0 and voisins_vivants == 3:\n",
    "                nouvelle_grille[x, y] = 1\n",
    "    return nouvelle_grille\n",
    "\n",
    "# Initialisation et premier pas\n",
    "grille = initialiser_grille(10)\n",
    "print(\"Grille initiale:\")\n",
    "print(grille)\n",
    "\n",
    "nouvelle_grille = appliquer_regles(grille)\n",
    "print(\"Grille après 1 itération:\")\n",
    "print(nouvelle_grille)\n"
   ]
  },
  {
   "cell_type": "code",
   "execution_count": 14,
   "id": "ed76b2e8d5c6f013",
   "metadata": {},
   "outputs": [
    {
     "ename": "SyntaxError",
     "evalue": "invalid syntax (248306357.py, line 4)",
     "output_type": "error",
     "traceback": [
      "\u001b[1;36m  File \u001b[1;32m\"C:\\Users\\932252817\\AppData\\Local\\Temp\\ipykernel_33608\\248306357.py\"\u001b[1;36m, line \u001b[1;32m4\u001b[0m\n\u001b[1;33m    - Afficher la grille en temps reel.\u001b[0m\n\u001b[1;37m               ^\u001b[0m\n\u001b[1;31mSyntaxError\u001b[0m\u001b[1;31m:\u001b[0m invalid syntax\n"
     ]
    }
   ],
   "source": [
    "## **3. Partie Interface**\n",
    "\n",
    "### Objectifs :\n",
    "- Afficher la grille en temps reel.\n",
    "- Permettre à l utilisateur de modifier les cellules avec la souris.\n"
   ]
  },
  {
   "cell_type": "code",
   "execution_count": 3,
   "id": "2cee9219d899ce5d",
   "metadata": {
    "ExecuteTime": {
     "end_time": "2024-12-09T21:17:51.681284200Z",
     "start_time": "2024-12-09T21:17:26.445290Z"
    }
   },
   "outputs": [
    {
     "name": "stdout",
     "output_type": "stream",
     "text": [
      "pygame 2.6.1 (SDL 2.28.4, Python 3.11.7)\n",
      "Hello from the pygame community. https://www.pygame.org/contribute.html\n"
     ]
    },
    {
     "ename": "KeyboardInterrupt",
     "evalue": "",
     "output_type": "error",
     "traceback": [
      "\u001b[1;31m---------------------------------------------------------------------------\u001b[0m",
      "\u001b[1;31mKeyboardInterrupt\u001b[0m                         Traceback (most recent call last)",
      "Cell \u001b[1;32mIn[3], line 32\u001b[0m\n\u001b[0;32m     30\u001b[0m \u001b[38;5;66;03m# Affichage d'une grille initiale\u001b[39;00m\n\u001b[0;32m     31\u001b[0m grille \u001b[38;5;241m=\u001b[39m initialiser_grille(\u001b[38;5;241m50\u001b[39m)\n\u001b[1;32m---> 32\u001b[0m afficher_interface(grille)\n",
      "Cell \u001b[1;32mIn[3], line 25\u001b[0m, in \u001b[0;36mafficher_interface\u001b[1;34m(grille)\u001b[0m\n\u001b[0;32m     22\u001b[0m             couleur \u001b[38;5;241m=\u001b[39m (\u001b[38;5;241m200\u001b[39m, \u001b[38;5;241m200\u001b[39m, \u001b[38;5;241m200\u001b[39m) \u001b[38;5;28;01mif\u001b[39;00m grille[x, y] \u001b[38;5;241m==\u001b[39m \u001b[38;5;241m1\u001b[39m \u001b[38;5;28;01melse\u001b[39;00m (\u001b[38;5;241m50\u001b[39m, \u001b[38;5;241m50\u001b[39m, \u001b[38;5;241m50\u001b[39m)\n\u001b[0;32m     23\u001b[0m             pygame\u001b[38;5;241m.\u001b[39mdraw\u001b[38;5;241m.\u001b[39mrect(screen, couleur,\n\u001b[0;32m     24\u001b[0m                              (x\u001b[38;5;241m*\u001b[39mtaille_cellule, y\u001b[38;5;241m*\u001b[39mtaille_cellule, taille_cellule, taille_cellule))\n\u001b[1;32m---> 25\u001b[0m     pygame\u001b[38;5;241m.\u001b[39mdisplay\u001b[38;5;241m.\u001b[39mflip()\n\u001b[0;32m     26\u001b[0m     clock\u001b[38;5;241m.\u001b[39mtick(\u001b[38;5;241m10\u001b[39m)\n\u001b[0;32m     28\u001b[0m pygame\u001b[38;5;241m.\u001b[39mquit()\n",
      "\u001b[1;31mKeyboardInterrupt\u001b[0m: "
     ]
    }
   ],
   "source": [
    "import pygame\n",
    "\n",
    "# Initialiser Pygame\n",
    "def afficher_interface(grille):\n",
    "    pygame.init()\n",
    "    taille_cellule = 10\n",
    "    taille_grille = len(grille) * taille_cellule\n",
    "    screen = pygame.display.set_mode((taille_grille, taille_grille))\n",
    "    pygame.display.set_caption(\"Jeu de la Vie\")\n",
    "    clock = pygame.time.Clock()\n",
    "    running = True\n",
    "\n",
    "    while running:\n",
    "        for event in pygame.event.get():\n",
    "            if event.type == pygame.QUIT:\n",
    "                running = False\n",
    "\n",
    "        # Dessiner la grille\n",
    "        screen.fill((0, 0, 0))\n",
    "        for x in range(len(grille)):\n",
    "            for y in range(len(grille)):\n",
    "                couleur = (200, 200, 200) if grille[x, y] == 1 else (50, 50, 50)\n",
    "                pygame.draw.rect(screen, couleur,\n",
    "                                 (x*taille_cellule, y*taille_cellule, taille_cellule, taille_cellule))\n",
    "        pygame.display.flip()\n",
    "        clock.tick(10)\n",
    "\n",
    "    pygame.quit()\n",
    "\n",
    "# Affichage d'une grille initiale\n",
    "grille = initialiser_grille(50)\n",
    "afficher_interface(grille)\n"
   ]
  },
  {
   "cell_type": "code",
   "execution_count": null,
   "id": "fc0defcff94e6c3f",
   "metadata": {},
   "outputs": [],
   "source": [
    "## **4. Sauvegarde et Chargement**\n",
    "\n",
    "### Objectifs :\n",
    "- Enregistrer et recharger des etats de grille.\n"
   ]
  },
  {
   "cell_type": "code",
   "execution_count": 1,
   "id": "42b9bbd2-a072-4d5c-bae9-319078c46826",
   "metadata": {},
   "outputs": [
    {
     "name": "stdout",
     "output_type": "stream",
     "text": [
      "pygame 2.6.1 (SDL 2.28.4, Python 3.11.7)\n",
      "Hello from the pygame community. https://www.pygame.org/contribute.html\n"
     ]
    }
   ],
   "source": [
    "import json\n",
    "import numpy as np\n",
    "import pygame\n",
    "\n",
    "# source d'aide pour json : https://zestedesavoir.com/tutoriels/2514/un-zeste-de-python/6-entrees-sorties/10-tp/"
   ]
  },
  {
   "cell_type": "code",
   "execution_count": 2,
   "id": "93bf450b-507b-48ed-91e5-85ac34f9f61e",
   "metadata": {},
   "outputs": [],
   "source": [
    "# Fonction pour sauvegarder l'état du jeu\n",
    "def save_jeu(fichier, grille, regles):\n",
    "    try:\n",
    "        game_state = {\n",
    "            \"taille_grille\": grille.shape[0],\n",
    "            \"regles\": regles,\n",
    "            \"grille\": grille.tolist(),\n",
    "        }\n",
    "\n",
    "        with open(fichier, 'w') as file:\n",
    "            json.dump(game_state, file)\n",
    "\n",
    "        print(f\"Jeu sauvegardé à : {fichier}\")\n",
    "    except Exception as e:\n",
    "        print(f\"Erreur: {e}\")\n"
   ]
  },
  {
   "cell_type": "code",
   "execution_count": 5,
   "id": "42733ca781c4759e",
   "metadata": {},
   "outputs": [],
   "source": [
    "# Fonction pour charger l'état du jeu\n",
    "def load_jeu(fichier):\n",
    "    try:\n",
    "        with open(fichier, 'r') as file:\n",
    "            game_state = json.load(file)\n",
    "            print(\"Jeu load:\", game_state)  # Debugging line\n",
    "\n",
    "        taille_grille = game_state[\"taille_grille\"]\n",
    "        regles = game_state[\"regles\"]\n",
    "        grille = np.array(game_state[\"grille\"], dtype=int)\n",
    "\n",
    "        print(f\"Jeu load from {fichier}\")\n",
    "        return grille, regles\n",
    "    except Exception as e:\n",
    "        print(f\"Erreur: {e}\")\n",
    "        return None\n"
   ]
  },
  {
   "cell_type": "code",
   "execution_count": 6,
   "id": "d64f8b46-e624-42f9-818d-e98c321b4feb",
   "metadata": {},
   "outputs": [],
   "source": [
    "# Fonction pour demander le nom d'un fichier via une interface Pygame\n",
    "# besoin de Pygame\n",
    "def demander_nom_fichier(screen):\n",
    "    input_box = pygame.Rect(300, 350, 400, 50)\n",
    "    font = pygame.font.Font(None, 36)\n",
    "    actif = True\n",
    "    texte = \"\"\n",
    "    running = True\n",
    "\n",
    "    while running:\n",
    "        screen.fill((240, 248, 255))  # Fond blanc cassé\n",
    "\n",
    "        # Affiche la boîte de texte\n",
    "        pygame.draw.rect(screen, (200, 200, 200), input_box)\n",
    "        pygame.draw.rect(screen, (0, 0, 0), input_box, 2)\n",
    "        text_surface = font.render(texte, True, (0, 0, 0))\n",
    "        screen.blit(text_surface, (input_box.x + 5, input_box.y + 10))\n",
    "\n",
    "        # Affiche un texte explicatif\n",
    "        message = font.render(\"Entrez le nom du fichier et appuyez sur Entrée\", True, (0, 0, 0))\n",
    "        screen.blit(message, (200, 250))\n",
    "\n",
    "        pygame.display.flip()\n",
    "\n",
    "        # Clavier\n",
    "        for event in pygame.event.get():\n",
    "            if event.type == pygame.QUIT:\n",
    "                pygame.quit()\n",
    "                return None\n",
    "            elif event.type == pygame.KEYDOWN:\n",
    "                if event.key == pygame.K_RETURN:\n",
    "                    return texte\n",
    "                elif event.key == pygame.K_BACKSPACE:\n",
    "                    texte = texte[:-1]\n",
    "                else:\n",
    "                    texte += event.unicode\n",
    "\n",
    "    return texte\n"
   ]
  },
  {
   "cell_type": "code",
   "execution_count": 9,
   "id": "aced8ccb-fc35-4d9b-bd45-2f7daaf88388",
   "metadata": {},
   "outputs": [
    {
     "name": "stdout",
     "output_type": "stream",
     "text": [
      "=== Sauvegarde ===\n",
      "Jeu saved à grille_sauvegardee.json\n",
      "\n",
      "=== Chargement ===\n",
      "Jeu loaded: {'taille_grille': 3, 'regles': {'survie': [2, 3], 'naissance': [3]}, 'grille': [[0, 1, 0], [1, 0, 1], [0, 1, 0]]}\n",
      "Jeu loaded de fichier grille_sauvegardee.json\n",
      "Grille chargée :\n",
      " [[0 1 0]\n",
      " [1 0 1]\n",
      " [0 1 0]]\n",
      "Règles chargées : {'survie': [2, 3], 'naissance': [3]}\n"
     ]
    }
   ],
   "source": [
    "# Exemple d'utilisation des fonctions save_game et load_game\n",
    "# Exécutez cette cellule pour tester la sauvegarde et le chargement d'une grille fictive.\n",
    "\n",
    "# Exemple de grille et règles\n",
    "grille_exemple = np.array([[0, 1, 0], [1, 0, 1], [0, 1, 0]])\n",
    "regles_exemple = {\"survie\": [2, 3], \"naissance\": [3]}\n",
    "\n",
    "# Sauvegarder la grille\n",
    "print(\"=== Sauvegarde ===\")\n",
    "save_jeu(\"grille_sauvegardee.json\", grille_exemple, regles_exemple)\n",
    "\n",
    "# Charger la grille\n",
    "print(\"\\n=== Chargement ===\")\n",
    "grille_chargee, regles_chargees = load_jeu(\"grille_sauvegardee.json\")\n",
    "print(\"Grille chargée :\\n\", grille_chargee)\n",
    "print(\"Règles chargées :\", regles_chargees)\n"
   ]
  },
  {
   "cell_type": "code",
   "execution_count": null,
   "id": "7861ac59-d848-45c2-90bb-d41b11b69b86",
   "metadata": {},
   "outputs": [],
   "source": []
  },
  {
   "cell_type": "code",
   "execution_count": null,
   "id": "74fcc027a0265a62",
   "metadata": {},
   "outputs": [],
   "source": [
    "## **5. Optimisation et Analyse**\n",
    "\n",
    "### Objectifs :\n",
    "- Etudier les performances sur des grilles de grandes tailles.\n",
    "- Analyser l évolution des cellules.\n"
   ]
  },
  {
   "cell_type": "code",
   "execution_count": null,
   "id": "becc6e4310ac86d9",
   "metadata": {},
   "outputs": [],
   "source": [
    "import numpy as np\n",
    "import time\n",
    "\n",
    "# Fonction d'optimisation pour le calcul des états des cellules\n",
    "def appliquer_regles_optimise(grille, regles):\n",
    "    vivantes = np.argwhere(grille == 1)  # Trouver les cellules vivantes\n",
    "    a_verifier = set()  # Ensemble des cellules à vérifier\n",
    "\n",
    "    # Ajouter les cellules vivantes et leurs voisins à vérifier\n",
    "    for x, y in vivantes:\n",
    "        a_verifier.add((x, y))\n",
    "        for dx, dy in [(-1, -1), (-1, 0), (-1, 1), (0, -1), (0, 1), (1, -1), (1, 0), (1, 1)]:\n",
    "            a_verifier.add(((x + dx) % grille.shape[0], (y + dy) % grille.shape[1]))\n",
    "\n",
    "    nouvelle_grille = grille.copy()\n",
    "\n",
    "    # Appliquer les règles sur les cellules à vérifier\n",
    "    for x, y in a_verifier:\n",
    "        voisins_vivants = np.sum(grille[x-1:x+2, y-1:y+2]) - grille[x, y]  # Compte les voisins vivants\n",
    "        if grille[x, y] == 1:\n",
    "            if voisins_vivants < regles['min_vivants'] or voisins_vivants > regles['max_vivants']:\n",
    "                nouvelle_grille[x, y] = 0  # La cellule meurt\n",
    "        else:\n",
    "            if voisins_vivants == regles['revient_a_la_vie']:\n",
    "                nouvelle_grille[x, y] = 1  # La cellule revient à la vie\n",
    "\n",
    "    return nouvelle_grille\n",
    "\n",
    "# Mesure du temps d'exécution de l'application des règles\n",
    "def mesurer_temps_execution(grille, regles):\n",
    "    debut = time.time()  # Heure de début\n",
    "    nouvelle_grille = appliquer_regles_optimise(grille, regles)  # Application des règles\n",
    "    fin = time.time()  # Heure de fin\n",
    "    duree = fin - debut  # Calcul de la durée\n",
    "    return duree, nouvelle_grille\n"
   ]
  },
  {
   "cell_type": "code",
   "execution_count": null,
   "id": "1729c27c-924a-4fed-a9fb-1b2f2071b54a",
   "metadata": {},
   "outputs": [],
   "source": [
    "def afficher_popup(fenetre, temps):\n",
    "    # Dimensions de la fenêtre pop-up\n",
    "    largeur, hauteur = 250, 50\n",
    "\n",
    "    # Positionnement de la pop-up en bas à droite\n",
    "    x = 750\n",
    "    y = 500\n",
    "\n",
    "    # Fond de la pop-up\n",
    "    pygame.draw.rect(fenetre, (0, 0, 0), (x, y, largeur, hauteur))\n",
    "    pygame.draw.rect(fenetre, (255, 255, 255), (x + 5, y + 5, largeur - 10, hauteur - 10))\n",
    "\n",
    "    # Texte de la pop-up\n",
    "    font_popup = pygame.font.Font(None, 26)\n",
    "    texte = font_popup.render(f\"Temps: {temps:.6f} secondes\", True, (0, 0, 0))\n",
    "    texte_rect = texte.get_rect(center=(x + largeur // 2, y + hauteur // 2))\n",
    "    fenetre.blit(texte, texte_rect)\n",
    "\n",
    "    pygame.display.flip()\n",
    "\n",
    "    # Délai pour fermer la pop-up après 2 secondes\n",
    "    pygame.time.delay(500)\n"
   ]
  },
  {
   "cell_type": "code",
   "execution_count": null,
   "id": "f167c53f-f13d-4303-8f85-6361d42725d2",
   "metadata": {},
   "outputs": [],
   "source": [
    "# Fonction principale du jeu\n",
    "def boucle_jeu_optimisé(taille_grille, regles):\n",
    "    taille_cellule = 800 // taille_grille\n",
    "    grille = np.zeros((taille_grille, taille_grille), dtype=int)\n",
    "    running = True\n",
    "    auto_mode = False\n",
    "    clock = pygame.time.Clock()\n",
    "\n",
    "    while running:\n",
    "        screen.fill(fonctions_base.COULEUR_FOND)\n",
    "        fonctions_base.dessiner_grille(screen, grille, taille_cellule)\n",
    "\n",
    "        # Afficher boutons de contrôle\n",
    "        boutons = []\n",
    "        bouton_random = pygame.Rect(850, 60, 140, 50)\n",
    "        bouton_reset = pygame.Rect(850, 120, 140, 50)\n",
    "        bouton_step = pygame.Rect(850, 180, 140, 50)\n",
    "        bouton_auto = pygame.Rect(850, 240, 140, 50)\n",
    "        bouton_quitter = pygame.Rect(850, 300, 140, 50)\n",
    "        bouton_save = pygame.Rect(850, 360, 140, 50)\n",
    "\n",
    "        boutons.extend([(\"reset\", bouton_reset), (\"step\", bouton_step), (\"auto\", bouton_auto), (\"random\", bouton_random), (\"quitter\", bouton_quitter), (\"save\", bouton_save)])\n",
    "\n",
    "        for nom, bouton in boutons:\n",
    "            texte = \"Auto: ON\" if auto_mode and nom == \"auto\" else nom.capitalize()\n",
    "            fonctions_base.dessiner_bouton(screen, bouton, texte, bouton.collidepoint(pygame.mouse.get_pos()))\n",
    "\n",
    "        pygame.display.flip()\n",
    "\n",
    "        for event in pygame.event.get():\n",
    "            if event.type == pygame.QUIT:\n",
    "                running = False\n",
    "            elif event.type == pygame.MOUSEBUTTONDOWN:\n",
    "                if event.button == 1:  # Clic gauche\n",
    "                    for nom, bouton in boutons:\n",
    "                        if bouton.collidepoint(event.pos):\n",
    "                            if nom == \"reset\":\n",
    "                                grille = np.zeros((taille_grille, taille_grille), dtype=int)\n",
    "                            elif nom == \"step\":\n",
    "                                grille = appliquer_regles_optimise(grille, regles)\n",
    "                                duree, grille = mesurer_temps_execution(grille, regles)\n",
    "                                afficher_popup(screen, duree)\n",
    "                                print(f\"Temps pour cette étape : {duree:.6f} secondes\")\n",
    "                            elif nom == \"auto\":\n",
    "                                auto_mode = not auto_mode\n",
    "                            elif nom == \"save\":\n",
    "                                nom_fichier = save.demander_nom_fichier(screen)\n",
    "                                if nom_fichier:\n",
    "                                    save.save_game(nom_fichier + \".json\", grille, regles)\n",
    "                            elif nom == \"random\":\n",
    "                                grille = np.random.randint(2, size=(taille_grille, taille_grille))\n",
    "                            elif nom == \"quitter\":\n",
    "                                return fonctions_base.afficher_accueil()\n",
    "                x, y = event.pos\n",
    "                if x < 800 and y < 800:  # Clic dans la grille\n",
    "                    x //= taille_cellule\n",
    "                    y //= taille_cellule\n",
    "                    grille[x, y] = 1 - grille[x, y]\n",
    "\n",
    "        if auto_mode:\n",
    "            grille = appliquer_regles_optimise(grille, regles)\n",
    "            pygame.time.delay(300)\n",
    "\n",
    "        clock.tick(60)"
   ]
  },
  {
   "cell_type": "code",
   "execution_count": null,
   "id": "5359ef1c85a6a375",
   "metadata": {},
   "outputs": [],
   "source": [
    "## **6. Conclusion**\n",
    "\n",
    "### Points clés du projet :\n",
    "- Implementation reussie des fonctionnalites principales.\n",
    "- Interface graphique fonctionnelle avec Pygame.\n",
    "- Outils d analyse et d optimisation pour etudier le comportement des cellules.\n",
    "\n",
    "### Extensions possibles :\n",
    "- Reconnaissance automatique des structures complexes (oscillateurs, vaisseaux).\n",
    "- Support pour des grilles infinies.\n",
    "\n",
    "Merci pour votre attention !\n"
   ]
  }
 ],
 "metadata": {
  "kernelspec": {
   "display_name": "Python 3 (ipykernel)",
   "language": "python",
   "name": "python3"
  },
  "language_info": {
   "codemirror_mode": {
    "name": "ipython",
    "version": 3
   },
   "file_extension": ".py",
   "mimetype": "text/x-python",
   "name": "python",
   "nbconvert_exporter": "python",
   "pygments_lexer": "ipython3",
   "version": "3.11.7"
  }
 },
 "nbformat": 4,
 "nbformat_minor": 5
}
